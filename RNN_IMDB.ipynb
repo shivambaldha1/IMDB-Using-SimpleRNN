{
 "cells": [
  {
   "cell_type": "code",
   "execution_count": 2,
   "metadata": {
    "id": "Jr4cugH3mZ_X"
   },
   "outputs": [],
   "source": [
    "# Credits: https://machinelearningmastery.com/sequence-classification-lstm-recurrent-neural-networks-python-keras/\n",
    "# LSTM for sequence classification in the IMDB dataset\n",
    "import numpy\n",
    "from keras.datasets import imdb\n",
    "from keras.models import Sequential\n",
    "from keras.layers import Dense\n",
    "from keras.layers import LSTM , SimpleRNN\n",
    "from keras.layers.embeddings import Embedding\n",
    "from keras.preprocessing import sequence\n",
    "# fix random seed for reproducibility\n",
    "numpy.random.seed(7)"
   ]
  },
  {
   "cell_type": "code",
   "execution_count": 3,
   "metadata": {
    "colab": {
     "base_uri": "https://localhost:8080/"
    },
    "id": "Kjf2yM5GF4_8",
    "outputId": "a9b39608-76c7-4e03-8ba7-2426178d705c"
   },
   "outputs": [
    {
     "name": "stdout",
     "output_type": "stream",
     "text": [
      "WARNING:tensorflow:The `nb_words` argument in `load_data` has been renamed `num_words`.\n",
      "Downloading data from https://storage.googleapis.com/tensorflow/tf-keras-datasets/imdb.npz\n",
      "17465344/17464789 [==============================] - 0s 0us/step\n",
      "17473536/17464789 [==============================] - 0s 0us/step\n"
     ]
    }
   ],
   "source": [
    "#Refer: https://keras.io/datasets/#imdb-movie-reviews-sentiment-classification\n",
    "\n",
    "# load the dataset but only keep the top n words, zero the rest\n",
    "top_words = 5000\n",
    "(X_train, y_train), (X_test, y_test) = imdb.load_data(nb_words=top_words)\n"
   ]
  },
  {
   "cell_type": "code",
   "execution_count": 11,
   "metadata": {
    "colab": {
     "base_uri": "https://localhost:8080/"
    },
    "id": "eYEE6ts7GAjC",
    "outputId": "8e57dfa5-23d0-4fdb-b184-d994d9a2dca0"
   },
   "outputs": [
    {
     "name": "stdout",
     "output_type": "stream",
     "text": [
      "[1, 54, 13, 1610, 14, 20, 13, 69, 55, 364, 1398, 21, 54, 13, 219, 12, 13, 1706, 15, 4, 20, 16, 329, 6, 176, 329, 74, 51, 13, 873, 4, 156, 71, 78, 4, 2, 322, 16, 31, 7, 4, 249, 4, 65, 16, 38, 379, 12, 100, 157, 18, 6, 910, 20, 549, 18, 4, 1496, 21, 14, 31, 9, 24, 6, 212, 12, 9, 6, 1322, 991, 7, 3002, 4, 425, 9, 73, 2218, 549, 18, 31, 155, 36, 100, 763, 379, 20, 103, 351, 2, 13, 202, 12, 2241, 5, 6, 320, 46, 7, 457]\n",
      "The lenght of the sentence ==> 99\n",
      "Train data shape ==> (25000,)\n",
      "Test data shape ==> (25000,)\n"
     ]
    }
   ],
   "source": [
    "print(X_train[11])\n",
    "print('The lenght of the sentence ==>',len(X_train[11]))\n",
    "print('Train data shape ==>',X_train.shape)\n",
    "print('Test data shape ==>',X_test.shape)"
   ]
  },
  {
   "cell_type": "code",
   "execution_count": 5,
   "metadata": {
    "colab": {
     "base_uri": "https://localhost:8080/"
    },
    "id": "BhWo1v1M7elZ",
    "outputId": "e89f57c6-7e5f-4ba7-d407-b833698e9842"
   },
   "outputs": [
    {
     "data": {
      "text/plain": [
       "(25000,)"
      ]
     },
     "execution_count": 5,
     "metadata": {},
     "output_type": "execute_result"
    }
   ],
   "source": []
  },
  {
   "cell_type": "code",
   "execution_count": 6,
   "metadata": {
    "colab": {
     "base_uri": "https://localhost:8080/"
    },
    "id": "wn1coShH7LvP",
    "outputId": "abbbe0b8-4473-4f36-ad03-506125278f5d"
   },
   "outputs": [
    {
     "data": {
      "text/plain": [
       "4998"
      ]
     },
     "execution_count": 6,
     "metadata": {},
     "output_type": "execute_result"
    }
   ],
   "source": [
    "max(numpy.max(X_test))"
   ]
  },
  {
   "cell_type": "code",
   "execution_count": 19,
   "metadata": {
    "colab": {
     "base_uri": "https://localhost:8080/"
    },
    "id": "57N6TyKLH-Pc",
    "outputId": "b01e5bdb-e3cd-4f49-89dc-7109eb81c81d"
   },
   "outputs": [
    {
     "name": "stdout",
     "output_type": "stream",
     "text": [
      "(25000, 200)\n",
      "[   0    0    0    0    0    0    0    0    0    0    0    0    0    0\n",
      "    0    0    0    0    0    0    0    0    0    0    0    0    0    0\n",
      "    0    0    0    0    0    0    0    0    0    0    0    0    0    0\n",
      "    0    0    0    0    0    0    0    0    0    0    0    0    0    0\n",
      "    0    0    0    0    0    0    0    0    0    0    0    0    0    0\n",
      "    0    0    0    0    0    0    0    0    0    0    0    0    0    0\n",
      "    0    0    0    0    0    0    0    0    0    0    0    0    0    0\n",
      "    0    0  163   11 3215    2    4 1153    9  194  775    7    2    2\n",
      "  349 2637  148  605    2    2   15  123  125   68    2    2   15  349\n",
      "  165 4362   98    5    4  228    9   43    2 1157   15  299  120    5\n",
      "  120  174   11  220  175  136   50    9 4373  228    2    5    2  656\n",
      "  245 2350    5    4    2  131  152  491   18    2   32    2 1212   14\n",
      "    9    6  371   78   22  625   64 1382    9    8  168  145   23    4\n",
      " 1690   15   16    4 1355    5   28    6   52  154  462   33   89   78\n",
      "  285   16  145   95]\n"
     ]
    }
   ],
   "source": [
    "# truncate and/or pad input sequences\n",
    "max_review_length = 200\n",
    "X_train = sequence.pad_sequences(X_train, maxlen=max_review_length)\n",
    "X_test = sequence.pad_sequences(X_test, maxlen=max_review_length)\n",
    "\n",
    "print(X_train.shape)\n",
    "print(X_train[1])"
   ]
  },
  {
   "cell_type": "code",
   "execution_count": 8,
   "metadata": {
    "colab": {
     "base_uri": "https://localhost:8080/"
    },
    "id": "CquzlqrOIYGn",
    "outputId": "472da5bb-631a-454d-8265-6e0b207716c1"
   },
   "outputs": [
    {
     "name": "stdout",
     "output_type": "stream",
     "text": [
      "Model: \"sequential\"\n",
      "_________________________________________________________________\n",
      " Layer (type)                Output Shape              Param #   \n",
      "=================================================================\n",
      " embedding (Embedding)       (None, 600, 32)           160000    \n",
      "                                                                 \n",
      " simple_rnn (SimpleRNN)      (None, 100)               13300     \n",
      "                                                                 \n",
      " dense (Dense)               (None, 1)                 101       \n",
      "                                                                 \n",
      "=================================================================\n",
      "Total params: 173,401\n",
      "Trainable params: 173,401\n",
      "Non-trainable params: 0\n",
      "_________________________________________________________________\n",
      "None\n"
     ]
    }
   ],
   "source": [
    "# create the model\n",
    "embedding_vecor_length = 32\n",
    "model = Sequential()\n",
    "model.add(Embedding(top_words, embedding_vecor_length, input_length=max_review_length))\n",
    "model.add(SimpleRNN(100))\n",
    "model.add(Dense(1, activation='sigmoid'))\n",
    "model.compile(loss='binary_crossentropy', optimizer='adam', metrics=['accuracy'])\n",
    "print(model.summary())\n",
    "#Refer: https://datascience.stackexchange.com/questions/10615/number-of-parameters-in-an-lstm-model"
   ]
  },
  {
   "cell_type": "code",
   "execution_count": 12,
   "metadata": {
    "colab": {
     "base_uri": "https://localhost:8080/"
    },
    "id": "A_FT0dPNIeLP",
    "outputId": "180d2a23-0aae-455b-b336-7092014c18db"
   },
   "outputs": [
    {
     "name": "stdout",
     "output_type": "stream",
     "text": [
      "Epoch 1/10\n",
      "95/95 - 66s - loss: 0.6825 - accuracy: 0.5610 - val_loss: 0.6693 - val_accuracy: 0.5479 - 66s/epoch - 698ms/step\n",
      "Epoch 2/10\n",
      "95/95 - 65s - loss: 0.6034 - accuracy: 0.6763 - val_loss: 0.5706 - val_accuracy: 0.7398 - 65s/epoch - 687ms/step\n",
      "Epoch 3/10\n",
      "95/95 - 66s - loss: 0.4649 - accuracy: 0.7870 - val_loss: 0.3415 - val_accuracy: 0.8584 - 66s/epoch - 694ms/step\n",
      "Epoch 4/10\n",
      "95/95 - 64s - loss: 0.3251 - accuracy: 0.8674 - val_loss: 0.2556 - val_accuracy: 0.9021 - 64s/epoch - 678ms/step\n",
      "Epoch 5/10\n",
      "95/95 - 64s - loss: 0.2683 - accuracy: 0.8941 - val_loss: 0.2942 - val_accuracy: 0.8884 - 64s/epoch - 678ms/step\n",
      "Epoch 6/10\n",
      "95/95 - 64s - loss: 0.3335 - accuracy: 0.8592 - val_loss: 0.2723 - val_accuracy: 0.8918 - 64s/epoch - 671ms/step\n",
      "Epoch 7/10\n",
      "95/95 - 64s - loss: 0.4008 - accuracy: 0.8182 - val_loss: 0.3720 - val_accuracy: 0.8310 - 64s/epoch - 672ms/step\n",
      "Epoch 8/10\n",
      "95/95 - 64s - loss: 0.3317 - accuracy: 0.8633 - val_loss: 0.2789 - val_accuracy: 0.8874 - 64s/epoch - 671ms/step\n",
      "Epoch 9/10\n",
      "95/95 - 64s - loss: 0.2709 - accuracy: 0.8932 - val_loss: 0.2298 - val_accuracy: 0.9126 - 64s/epoch - 678ms/step\n",
      "Epoch 10/10\n",
      "95/95 - 64s - loss: 0.2454 - accuracy: 0.9044 - val_loss: 0.2137 - val_accuracy: 0.9224 - 64s/epoch - 674ms/step\n"
     ]
    },
    {
     "data": {
      "text/plain": [
       "<keras.callbacks.History at 0x7f9d32c88310>"
      ]
     },
     "execution_count": 12,
     "metadata": {},
     "output_type": "execute_result"
    }
   ],
   "source": [
    "import keras\n",
    "his = keras.callbacks.History()\n",
    "call = [his]\n",
    "model.fit(X_train, y_train, epochs=10,validation_data = (X_train, y_train), batch_size=264 , verbose= 2 , callbacks = call)\n"
   ]
  },
  {
   "cell_type": "code",
   "execution_count": 16,
   "metadata": {
    "colab": {
     "base_uri": "https://localhost:8080/",
     "height": 295
    },
    "id": "ityhxnP-NxuM",
    "outputId": "0a485953-ac1b-45d0-ffc5-24e796b16da2"
   },
   "outputs": [
    {
     "data": {
      "image/png": "[encoded data removed]",
      "text/plain": [
       "<Figure size 432x288 with 1 Axes>"
      ]
     },
     "metadata": {
      "needs_background": "light"
     },
     "output_type": "display_data"
    }
   ],
   "source": [
    "import matplotlib.pyplot as plt\n",
    "plt.plot(his.history['accuracy'])  \n",
    "plt.plot(his.history['val_accuracy'])  \n",
    "plt.title('model accuracy')  \n",
    "plt.ylabel('accuracy')  \n",
    "plt.xlabel('epoch')\n",
    "plt.grid()  \n",
    "plt.legend(['train', 'test'])  \n",
    "plt.show()"
   ]
  },
  {
   "cell_type": "code",
   "execution_count": 15,
   "metadata": {
    "colab": {
     "base_uri": "https://localhost:8080/",
     "height": 295
    },
    "id": "h66Yw5bRNmZy",
    "outputId": "76ac0510-0502-4824-e7b0-c5fb733dc0b0"
   },
   "outputs": [
    {
     "data": {
      "image/png": "[encoded data removed]",
      "text/plain": [
       "<Figure size 432x288 with 1 Axes>"
      ]
     },
     "metadata": {
      "needs_background": "light"
     },
     "output_type": "display_data"
    }
   ],
   "source": [
    "import matplotlib.pyplot as plt\n",
    "plt.plot(his.history['loss'])  \n",
    "plt.plot(his.history['val_loss'])  \n",
    "plt.title('model loss')  \n",
    "plt.ylabel('loss')  \n",
    "plt.xlabel('epoch')\n",
    "plt.grid()  \n",
    "plt.legend(['train', 'test'])  \n",
    "plt.show()"
   ]
  },
  {
   "cell_type": "code",
   "execution_count": 13,
   "metadata": {
    "colab": {
     "base_uri": "https://localhost:8080/"
    },
    "id": "fgVm16Yt-pef",
    "outputId": "80fad807-b092-4a95-cfe2-8f4a8526a67b"
   },
   "outputs": [
    {
     "name": "stdout",
     "output_type": "stream",
     "text": [
      "Accuracy: 84.06%\n"
     ]
    }
   ],
   "source": [
    "# Final evaluation of the model\n",
    "scores = model.evaluate(X_test, y_test, verbose=0)\n",
    "print(\"Accuracy: %.2f%%\" % (scores[1]*100))"
   ]
  },
  {
   "cell_type": "code",
   "execution_count": null,
   "metadata": {
    "id": "PuJux6k7Nizp"
   },
   "outputs": [],
   "source": []
  }
 ],
 "metadata": {
  "accelerator": "GPU",
  "colab": {
   "collapsed_sections": [],
   "name": "LSTM_IMDB.ipynb",
   "provenance": []
  },
  "kernelspec": {
   "display_name": "Python 3 (ipykernel)",
   "language": "python",
   "name": "python3"
  },
  "language_info": {
   "codemirror_mode": {
    "name": "ipython",
    "version": 3
   },
   "file_extension": ".py",
   "mimetype": "text/x-python",
   "name": "python",
   "nbconvert_exporter": "python",
   "pygments_lexer": "ipython3",
   "version": "3.8.0rc1"
  }
 },
 "nbformat": 4,
 "nbformat_minor": 1
}
